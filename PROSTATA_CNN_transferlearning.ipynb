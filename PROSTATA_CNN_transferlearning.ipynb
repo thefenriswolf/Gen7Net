{
  "nbformat": 4,
  "nbformat_minor": 0,
  "metadata": {
    "colab": {
      "name": "PROSTATA-CNN-transferlearning.ipynb",
      "provenance": [],
      "collapsed_sections": [],
      "mount_file_id": "1xMBoa-mBSONO_Uu1gDfzgOTECkrsn3Xo",
      "authorship_tag": "ABX9TyNrorGvBTZ3AMlxpIp3MXeL",
      "include_colab_link": true
    },
    "kernelspec": {
      "name": "python3",
      "display_name": "Python 3"
    },
    "accelerator": "GPU"
  },
  "cells": [
    {
      "cell_type": "markdown",
      "metadata": {
        "id": "view-in-github",
        "colab_type": "text"
      },
      "source": [
        "<a href=\"https://colab.research.google.com/github/thefenriswolf/ML/blob/master/PROSTATA_CNN_transferlearning.ipynb\" target=\"_parent\"><img src=\"https://colab.research.google.com/assets/colab-badge.svg\" alt=\"Open In Colab\"/></a>"
      ]
    },
    {
      "cell_type": "markdown",
      "metadata": {
        "id": "xD2pz_KIK2cD",
        "colab_type": "text"
      },
      "source": [
        "# Import all nececessary Libaries\n",
        "## tensorflow\n",
        "The tensorflow machine learning toolkit, explicitly set to the latest version.\n",
        "## keras\n",
        "Keras is a high level API for tensorflow and makes complex underlying features available as higher level functions.\n",
        "## os\n",
        "A python module to interface with the underlying filesystem.\n",
        "## numpy\n",
        "A python libary for working with matrices in n-Dimensions.\n",
        "## matplotlib\n",
        "A python libary for plotting and graphing."
      ]
    },
    {
      "cell_type": "code",
      "metadata": {
        "id": "CP0ixRYbdjdx",
        "colab_type": "code",
        "outputId": "0736a5e4-2334-450f-acdc-b29377dbd292",
        "colab": {
          "base_uri": "https://localhost:8080/",
          "height": 54
        }
      },
      "source": [
        "%tensorflow_version 2.x \n",
        "import tensorflow as tf\n",
        "from tensorflow.keras.models import Sequential\n",
        "from tensorflow.keras.layers import Dense, Conv2D, Flatten, Dropout, MaxPooling2D\n",
        "from tensorflow.keras.preprocessing.image import ImageDataGenerator\n",
        "import os\n",
        "import numpy as np\n",
        "import matplotlib.pyplot as plt\n",
        "\n",
        "# check for active GPU\n",
        "tf.test.gpu_device_name()"
      ],
      "execution_count": 0,
      "outputs": [
        {
          "output_type": "stream",
          "text": [
            "TensorFlow 2.x selected.\n"
          ],
          "name": "stdout"
        },
        {
          "output_type": "execute_result",
          "data": {
            "text/plain": [
              "'/device:GPU:0'"
            ]
          },
          "metadata": {
            "tags": []
          },
          "execution_count": 1
        }
      ]
    },
    {
      "cell_type": "markdown",
      "metadata": {
        "id": "15b52hy3Pb8R",
        "colab_type": "text"
      },
      "source": [
        "Set up some hardlinks to folders and count files in those folders."
      ]
    },
    {
      "cell_type": "code",
      "metadata": {
        "id": "8BNVVy8nm7XU",
        "colab_type": "code",
        "outputId": "fb72297a-2c9f-4a8b-9109-0599d956ce46",
        "colab": {
          "base_uri": "https://localhost:8080/",
          "height": 156
        }
      },
      "source": [
        "train_dir = 'drive/My Drive/PROSTATE-DIAGNOSIS/train/'\n",
        "test_dir = 'drive/My Drive/PROSTATE-DIAGNOSIS/test/'\n",
        "backup_dir = 'drive/My Drive/models/'\n",
        "\n",
        "pos_train_dir = os.path.join(train_dir, 'pos')\n",
        "neg_train_dir = os.path.join(train_dir, 'neg')\n",
        "pos_test_dir = os.path.join(test_dir, 'pos')\n",
        "neg_test_dir = os.path.join(test_dir, 'neg')\n",
        "\n",
        "num_pos_tr = len(os.listdir(pos_train_dir))\n",
        "num_neg_tr = len(os.listdir(neg_train_dir))\n",
        "num_pos_val = len(os.listdir(pos_test_dir))\n",
        "num_neg_val = len(os.listdir(neg_test_dir))\n",
        "\n",
        "total_train = num_pos_tr + num_neg_tr\n",
        "total_val = num_pos_val + num_neg_val\n",
        "total_train = num_pos_tr + num_neg_tr\n",
        "\n",
        "print('total positive training images:', num_pos_tr)\n",
        "print('total negative training images:', num_neg_tr)\n",
        "print('total positive test images:', num_pos_val)\n",
        "print('total negative test images:', num_neg_val)\n",
        "print(\"-+-+-+-+-\")\n",
        "print(\"Total training images:\", total_train)\n",
        "print(\"Total test images:\", total_val)"
      ],
      "execution_count": 0,
      "outputs": [
        {
          "output_type": "stream",
          "text": [
            "total positive training images: 11210\n",
            "total negative training images: 1840\n",
            "total positive test images: 3108\n",
            "total negative test images: 226\n",
            "-+-+-+-+-\n",
            "Total training images: 13050\n",
            "Total test images: 3334\n"
          ],
          "name": "stdout"
        }
      ]
    },
    {
      "cell_type": "code",
      "metadata": {
        "id": "iSq4f4aRoGna",
        "colab_type": "code",
        "outputId": "c13c2769-2273-455c-c46a-577699629a18",
        "colab": {
          "base_uri": "https://localhost:8080/",
          "height": 105
        }
      },
      "source": [
        "batch_size = 128\n",
        "epochs = 15\n",
        "IMG_HEIGHT = 160\n",
        "IMG_WIDTH = 160\n",
        "IMG_SHAPE = (IMG_HEIGHT, IMG_WIDTH, 3)\n",
        "\n",
        "\n",
        "train_image_generator = ImageDataGenerator(rescale=1./255, \n",
        "                                           rotation_range=6,\n",
        "                                           #horizontal_flip=True,\n",
        "                                           vertical_flip=True,\n",
        "                                           zoom_range=0.3)\n",
        "\n",
        "test_image_generator = ImageDataGenerator(rescale=1./255)\n",
        "\n",
        "print(\"Train:\")\n",
        "train_data_gen = train_image_generator.flow_from_directory(batch_size=batch_size,\n",
        "                                                           directory=train_dir,\n",
        "                                                           shuffle=True,\n",
        "                                                           target_size=(IMG_HEIGHT, IMG_WIDTH),\n",
        "                                                           class_mode='binary',\n",
        "                                                           interpolation='nearest')\n",
        "print(\"Test\")\n",
        "test_data_gen = test_image_generator.flow_from_directory(batch_size=batch_size,\n",
        "                                                              directory=test_dir,\n",
        "                                                              shuffle=True,\n",
        "                                                              target_size=(IMG_HEIGHT, IMG_WIDTH),\n",
        "                                                              class_mode='binary',\n",
        "                                                              interpolation='nearest')"
      ],
      "execution_count": 0,
      "outputs": [
        {
          "output_type": "stream",
          "text": [
            "Train:\n",
            "Found 13050 images belonging to 2 classes.\n",
            "Test\n",
            "Found 3334 images belonging to 2 classes.\n"
          ],
          "name": "stdout"
        }
      ]
    },
    {
      "cell_type": "markdown",
      "metadata": {
        "id": "GopnKPByQ5eq",
        "colab_type": "text"
      },
      "source": [
        "`tf.keras.models.load_model` restores a trained model from a HDF5 file."
      ]
    },
    {
      "cell_type": "code",
      "metadata": {
        "id": "MJdlyciFH9ao",
        "colab_type": "code",
        "colab": {}
      },
      "source": [
        "#restore previously trained model\n",
        "\n",
        "restored_model = tf.keras.models.load_model('drive/My Drive/models/cnn_revX.h5')\n",
        "restored_model.summary()"
      ],
      "execution_count": 0,
      "outputs": []
    },
    {
      "cell_type": "markdown",
      "metadata": {
        "id": "_W0z-F6PRUKz",
        "colab_type": "text"
      },
      "source": [
        "## Base Model\n",
        "I use `MobileNetV2` for transfer learning. `tf.keras.applications.MobileNetV2` loads the model and I then set the first 100 Layers to be trainable and the rest remains frozen.\n",
        "## Global Average Layer\n"
      ]
    },
    {
      "cell_type": "code",
      "metadata": {
        "id": "pWR8lpPnqljY",
        "colab_type": "code",
        "outputId": "f0cd7637-47aa-42fb-ef37-6a7b15bfa107",
        "colab": {
          "base_uri": "https://localhost:8080/",
          "height": 88
        }
      },
      "source": [
        "# Create the base model from the pre-trained model MobileNet V2\n",
        "base_model = tf.keras.applications.MobileNetV2(input_shape=IMG_SHAPE,\n",
        "                                               include_top=False,\n",
        "                                               weights='imagenet')\n",
        "\n",
        "#base_model.trainable = False # dont train base model\n",
        "base_model.trainable = True # make base model trainable\n",
        "\n",
        "# Let's take a look to see how many layers are in the base model\n",
        "print(\"Number of layers in the base model: \", len(base_model.layers))\n",
        "\n",
        "# Fine-tune from this layer in the base model onwards\n",
        "fine_tune_at = 100\n",
        "\n",
        "# Freeze all the layers before the `fine_tune_at` layer\n",
        "for layer in base_model.layers[:fine_tune_at]:\n",
        "  layer.trainable =  False\n",
        "\n",
        "\n",
        "#base_model.summary()\n",
        "global_average_layer = tf.keras.layers.GlobalAveragePooling2D()\n",
        "prediction_layer = tf.keras.layers.Dense(1)\n"
      ],
      "execution_count": 0,
      "outputs": [
        {
          "output_type": "stream",
          "text": [
            "Downloading data from https://github.com/JonathanCMitchell/mobilenet_v2_keras/releases/download/v1.1/mobilenet_v2_weights_tf_dim_ordering_tf_kernels_1.0_160_no_top.h5\n",
            "9412608/9406464 [==============================] - 2s 0us/step\n",
            "Number of layers in the base model:  155\n"
          ],
          "name": "stdout"
        }
      ]
    },
    {
      "cell_type": "code",
      "metadata": {
        "id": "xvhl7HM_r0rF",
        "colab_type": "code",
        "outputId": "8c559b33-6ecf-4c24-f844-fc6187cea19d",
        "colab": {
          "base_uri": "https://localhost:8080/",
          "height": 275
        }
      },
      "source": [
        "model = tf.keras.Sequential([\n",
        "  base_model,\n",
        "  global_average_layer,\n",
        "  prediction_layer\n",
        "])\n",
        "base_learning_rate = 0.0001\n",
        "model.compile(optimizer=tf.keras.optimizers.RMSprop(lr=base_learning_rate),\n",
        "              loss=tf.keras.losses.BinaryCrossentropy(from_logits=True),\n",
        "              metrics=['accuracy'])\n",
        "model.summary()"
      ],
      "execution_count": 0,
      "outputs": [
        {
          "output_type": "stream",
          "text": [
            "Model: \"sequential\"\n",
            "_________________________________________________________________\n",
            "Layer (type)                 Output Shape              Param #   \n",
            "=================================================================\n",
            "mobilenetv2_1.00_160 (Model) (None, 5, 5, 1280)        2257984   \n",
            "_________________________________________________________________\n",
            "global_average_pooling2d (Gl (None, 1280)              0         \n",
            "_________________________________________________________________\n",
            "dense (Dense)                (None, 1)                 1281      \n",
            "=================================================================\n",
            "Total params: 2,259,265\n",
            "Trainable params: 1,863,873\n",
            "Non-trainable params: 395,392\n",
            "_________________________________________________________________\n"
          ],
          "name": "stdout"
        }
      ]
    },
    {
      "cell_type": "code",
      "metadata": {
        "id": "JNuUiAu0s0S4",
        "colab_type": "code",
        "outputId": "c35adfb1-e95b-40e7-b2ee-b102df15fda8",
        "colab": {
          "base_uri": "https://localhost:8080/",
          "height": 727
        }
      },
      "source": [
        "history = model.fit(train_data_gen,\n",
        "                    epochs=15,\n",
        "                    validation_data=test_data_gen,\n",
        "                    verbose=1)"
      ],
      "execution_count": 0,
      "outputs": [
        {
          "output_type": "stream",
          "text": [
            "WARNING:tensorflow:sample_weight modes were coerced from\n",
            "  ...\n",
            "    to  \n",
            "  ['...']\n",
            "WARNING:tensorflow:sample_weight modes were coerced from\n",
            "  ...\n",
            "    to  \n",
            "  ['...']\n",
            "Train for 102 steps, validate for 27 steps\n",
            "Epoch 1/15\n",
            "102/102 [==============================] - 15873s 156s/step - loss: 0.3097 - accuracy: 0.8762 - val_loss: 0.3540 - val_accuracy: 0.9319\n",
            "Epoch 2/15\n",
            "102/102 [==============================] - 133s 1s/step - loss: 0.1679 - accuracy: 0.9379 - val_loss: 0.3665 - val_accuracy: 0.8932\n",
            "Epoch 3/15\n",
            "102/102 [==============================] - 133s 1s/step - loss: 0.1165 - accuracy: 0.9546 - val_loss: 0.3710 - val_accuracy: 0.8800\n",
            "Epoch 4/15\n",
            "102/102 [==============================] - 134s 1s/step - loss: 0.0873 - accuracy: 0.9644 - val_loss: 0.6566 - val_accuracy: 0.6866\n",
            "Epoch 5/15\n",
            "102/102 [==============================] - 133s 1s/step - loss: 0.0667 - accuracy: 0.9742 - val_loss: 1.1979 - val_accuracy: 0.5540\n",
            "Epoch 6/15\n",
            "102/102 [==============================] - 133s 1s/step - loss: 0.0584 - accuracy: 0.9792 - val_loss: 0.7114 - val_accuracy: 0.7409\n",
            "Epoch 7/15\n",
            "102/102 [==============================] - 132s 1s/step - loss: 0.0448 - accuracy: 0.9838 - val_loss: 0.5026 - val_accuracy: 0.8365\n",
            "Epoch 8/15\n",
            "102/102 [==============================] - 132s 1s/step - loss: 0.0387 - accuracy: 0.9848 - val_loss: 0.9254 - val_accuracy: 0.6809\n",
            "Epoch 9/15\n",
            "102/102 [==============================] - 132s 1s/step - loss: 0.0328 - accuracy: 0.9880 - val_loss: 0.6279 - val_accuracy: 0.7561\n",
            "Epoch 10/15\n",
            "102/102 [==============================] - 132s 1s/step - loss: 0.0266 - accuracy: 0.9905 - val_loss: 0.5212 - val_accuracy: 0.7993\n",
            "Epoch 11/15\n",
            "102/102 [==============================] - 133s 1s/step - loss: 0.0264 - accuracy: 0.9904 - val_loss: 0.7677 - val_accuracy: 0.7430\n",
            "Epoch 12/15\n",
            "102/102 [==============================] - 130s 1s/step - loss: 0.0232 - accuracy: 0.9910 - val_loss: 0.4914 - val_accuracy: 0.8347\n",
            "Epoch 13/15\n",
            "102/102 [==============================] - 131s 1s/step - loss: 0.0198 - accuracy: 0.9931 - val_loss: 0.7752 - val_accuracy: 0.7618\n",
            "Epoch 14/15\n",
            "102/102 [==============================] - 132s 1s/step - loss: 0.0150 - accuracy: 0.9943 - val_loss: 0.5859 - val_accuracy: 0.8074\n",
            "Epoch 15/15\n",
            "102/102 [==============================] - 133s 1s/step - loss: 0.0156 - accuracy: 0.9945 - val_loss: 0.5010 - val_accuracy: 0.8077\n"
          ],
          "name": "stdout"
        }
      ]
    },
    {
      "cell_type": "code",
      "metadata": {
        "id": "Ksqs-4WdIDuM",
        "colab_type": "code",
        "colab": {}
      },
      "source": [
        "# Save model as HDF5\n",
        "model.save('drive/My Drive/models/cnn_revX.h5')"
      ],
      "execution_count": 0,
      "outputs": []
    },
    {
      "cell_type": "code",
      "metadata": {
        "id": "VqGXxF9JePKg",
        "colab_type": "code",
        "outputId": "d4d251a2-4a48-434d-e1b3-57b6125b4aeb",
        "colab": {
          "base_uri": "https://localhost:8080/",
          "height": 621
        }
      },
      "source": [
        "acc = history.history['accuracy']\n",
        "val_acc = history.history['val_accuracy']\n",
        "\n",
        "loss = history.history['loss']\n",
        "val_loss = history.history['val_loss']\n",
        "\n",
        "plt.figure(figsize=(10, 10))\n",
        "plt.subplot(2, 1, 1)\n",
        "plt.plot(acc, label='Training Accuracy')\n",
        "plt.plot(val_acc, label='Validation Accuracy')\n",
        "plt.legend(loc='lower right')\n",
        "plt.ylabel('Accuracy')\n",
        "plt.ylim([min(plt.ylim()),1])\n",
        "plt.title('Training and Validation Accuracy')\n",
        "\n",
        "plt.subplot(2, 1, 2)\n",
        "plt.plot(loss, label='Training Loss')\n",
        "plt.plot(val_loss, label='Validation Loss')\n",
        "plt.legend(loc='upper right')\n",
        "plt.ylabel('Cross Entropy')\n",
        "plt.ylim([0,1.0])\n",
        "plt.title('Training and Validation Loss')\n",
        "plt.xlabel('epoch')\n",
        "plt.show()\n"
      ],
      "execution_count": 0,
      "outputs": [
        {
          "output_type": "display_data",
          "data": {
            "image/png": "[encoded data removed]",
            "text/plain": [
              "<Figure size 720x720 with 2 Axes>"
            ]
          },
          "metadata": {
            "tags": []
          }
        }
      ]
    },
    {
      "cell_type": "markdown",
      "metadata": {
        "id": "wayasNQgR3aJ",
        "colab_type": "text"
      },
      "source": [
        "MIT License\n",
        "\n",
        "Copyright (c) 2017 François Chollet\n",
        "\n",
        "Permission is hereby granted, free of charge, to any person obtaining a copy\n",
        "of this software and associated documentation files (the \"Software\"), to deal\n",
        "in the Software without restriction, including without limitation the rights\n",
        "to use, copy, modify, merge, publish, distribute, sublicense, and/or sell\n",
        "copies of the Software, and to permit persons to whom the Software is\n",
        "furnished to do so, subject to the following conditions:\n",
        "\n",
        "The above copyright notice and this permission notice shall be included in all\n",
        "copies or substantial portions of the Software.\n",
        "\n",
        "THE SOFTWARE IS PROVIDED \"AS IS\", WITHOUT WARRANTY OF ANY KIND, EXPRESS OR\n",
        "IMPLIED, INCLUDING BUT NOT LIMITED TO THE WARRANTIES OF MERCHANTABILITY,\n",
        "FITNESS FOR A PARTICULAR PURPOSE AND NONINFRINGEMENT. IN NO EVENT SHALL THE\n",
        "AUTHORS OR COPYRIGHT HOLDERS BE LIABLE FOR ANY CLAIM, DAMAGES OR OTHER\n",
        "LIABILITY, WHETHER IN AN ACTION OF CONTRACT, TORT OR OTHERWISE, ARISING FROM,\n",
        "OUT OF OR IN CONNECTION WITH THE SOFTWARE OR THE USE OR OTHER DEALINGS IN THE\n",
        "SOFTWARE."
      ]
    }
  ]
}